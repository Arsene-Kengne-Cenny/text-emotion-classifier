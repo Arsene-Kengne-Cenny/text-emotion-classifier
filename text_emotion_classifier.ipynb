{
 "cells": [
  {
   "cell_type": "markdown",
   "id": "35eee768",
   "metadata": {},
   "source": [
    "# 🧠 Text Emotion Classifier\n",
    "\n",
    "A basic NLP project to classify short text messages by emotion using Logistic Regression."
   ]
  },
  {
   "cell_type": "markdown",
   "id": "60cc6ad8",
   "metadata": {},
   "source": [
    "## 📦 Step 1: Import Libraries"
   ]
  },
  {
   "cell_type": "code",
   "execution_count": null,
   "id": "668d830d",
   "metadata": {},
   "outputs": [],
   "source": [
    "import pandas as pd\n",
    "from sklearn.model_selection import train_test_split\n",
    "from sklearn.feature_extraction.text import TfidfVectorizer\n",
    "from sklearn.linear_model import LogisticRegression\n",
    "from sklearn.metrics import classification_report, confusion_matrix\n",
    "import matplotlib.pyplot as plt\n",
    "import seaborn as sns"
   ]
  },
  {
   "cell_type": "markdown",
   "id": "8a715e96",
   "metadata": {},
   "source": [
    "## 📂 Step 2: Load Dataset"
   ]
  },
  {
   "cell_type": "code",
   "execution_count": null,
   "id": "393d64b2",
   "metadata": {},
   "outputs": [],
   "source": [
    "# Sample dataset (small for learning purposes)\n",
    "data = {\n",
    "    'text': [\n",
    "        'I am so happy today!',\n",
    "        'This is frustrating.',\n",
    "        'I feel sad and alone.',\n",
    "        'That was a joyful surprise.',\n",
    "        'I am angry and upset.',\n",
    "        'What a lovely day!'\n",
    "    ],\n",
    "    'emotion': ['joy', 'anger', 'sadness', 'joy', 'anger', 'joy']\n",
    "}\n",
    "df = pd.DataFrame(data)\n",
    "df"
   ]
  },
  {
   "cell_type": "markdown",
   "id": "f5668314",
   "metadata": {},
   "source": [
    "## 🧹 Step 3: Preprocess & Split"
   ]
  },
  {
   "cell_type": "code",
   "execution_count": null,
   "id": "95222e29",
   "metadata": {},
   "outputs": [],
   "source": [
    "X = df['text']\n",
    "y = df['emotion']\n",
    "X_train, X_test, y_train, y_test = train_test_split(X, y, test_size=0.3, random_state=42)"
   ]
  },
  {
   "cell_type": "markdown",
   "id": "06a8d66f",
   "metadata": {},
   "source": [
    "## 🧠 Step 4: Vectorize Text"
   ]
  },
  {
   "cell_type": "code",
   "execution_count": null,
   "id": "1b5b668a",
   "metadata": {},
   "outputs": [],
   "source": [
    "vectorizer = TfidfVectorizer()\n",
    "X_train_vec = vectorizer.fit_transform(X_train)\n",
    "X_test_vec = vectorizer.transform(X_test)"
   ]
  },
  {
   "cell_type": "markdown",
   "id": "274f8759",
   "metadata": {},
   "source": [
    "## 🤖 Step 5: Train Model"
   ]
  },
  {
   "cell_type": "code",
   "execution_count": null,
   "id": "c3c987db",
   "metadata": {},
   "outputs": [],
   "source": [
    "model = LogisticRegression()\n",
    "model.fit(X_train_vec, y_train)"
   ]
  },
  {
   "cell_type": "markdown",
   "id": "bf85f6fb",
   "metadata": {},
   "source": [
    "## 📈 Step 6: Evaluate Model"
   ]
  },
  {
   "cell_type": "code",
   "execution_count": null,
   "id": "c29fc549",
   "metadata": {},
   "outputs": [],
   "source": [
    "y_pred = model.predict(X_test_vec)\n",
    "print(classification_report(y_test, y_pred))\n",
    "\n",
    "# Confusion Matrix\n",
    "cm = confusion_matrix(y_test, y_pred, labels=model.classes_)\n",
    "sns.heatmap(cm, annot=True, fmt='d', xticklabels=model.classes_, yticklabels=model.classes_)\n",
    "plt.xlabel('Predicted')\n",
    "plt.ylabel('True')\n",
    "plt.title('Confusion Matrix')\n",
    "plt.show()"
   ]
  },
  {
   "cell_type": "markdown",
   "id": "de62bc98",
   "metadata": {},
   "source": [
    "## ✅ Done!\n",
    "\n",
    "This is a simple baseline project to understand how to classify text using NLP techniques. More complex models can be built using larger datasets and deep learning later."
   ]
  }
 ],
 "metadata": {},
 "nbformat": 4,
 "nbformat_minor": 5
}
